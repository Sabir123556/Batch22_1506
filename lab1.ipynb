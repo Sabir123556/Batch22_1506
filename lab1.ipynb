{
  "nbformat": 4,
  "nbformat_minor": 0,
  "metadata": {
    "colab": {
      "provenance": [],
      "authorship_tag": "ABX9TyPN+Ec2x4KnWQhcuhm6ovjJ",
      "include_colab_link": true
    },
    "kernelspec": {
      "name": "python3",
      "display_name": "Python 3"
    },
    "language_info": {
      "name": "python"
    }
  },
  "cells": [
    {
      "cell_type": "markdown",
      "metadata": {
        "id": "view-in-github",
        "colab_type": "text"
      },
      "source": [
        "<a href=\"https://colab.research.google.com/github/Sabir123556/Batch22_1506/blob/main/lab1.ipynb\" target=\"_parent\"><img src=\"https://colab.research.google.com/assets/colab-badge.svg\" alt=\"Open In Colab\"/></a>"
      ]
    },
    {
      "cell_type": "code",
      "execution_count": 1,
      "metadata": {
        "colab": {
          "base_uri": "https://localhost:8080/"
        },
        "id": "p_9EYgVqFWTZ",
        "outputId": "62124eb8-e4ac-4715-8a22-8103d267b824"
      },
      "outputs": [
        {
          "output_type": "stream",
          "name": "stdout",
          "text": [
            "Enter first number:5\n",
            "Factorial of 5 is 120\n"
          ]
        }
      ],
      "source": [
        "a=int(input(\"Enter first number:\"))\n",
        "fact = 1;\n",
        "for i in range(1,a+1):\n",
        "    fact=fact*i\n",
        "print(\"Factorial of\",a,\"is\",fact)\n"
      ]
    },
    {
      "cell_type": "code",
      "source": [],
      "metadata": {
        "id": "Y-O_1TPvFsbb"
      },
      "execution_count": null,
      "outputs": []
    }
  ]
}