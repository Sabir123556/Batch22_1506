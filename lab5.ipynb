{
  "nbformat": 4,
  "nbformat_minor": 0,
  "metadata": {
    "colab": {
      "provenance": [],
      "authorship_tag": "ABX9TyMkyxOAbeJ8kDLF8BAALb1R",
      "include_colab_link": true
    },
    "kernelspec": {
      "name": "python3",
      "display_name": "Python 3"
    },
    "language_info": {
      "name": "python"
    }
  },
  "cells": [
    {
      "cell_type": "markdown",
      "metadata": {
        "id": "view-in-github",
        "colab_type": "text"
      },
      "source": [
        "<a href=\"https://colab.research.google.com/github/Sabir123556/Batch22_1506/blob/main/lab5.ipynb\" target=\"_parent\"><img src=\"https://colab.research.google.com/assets/colab-badge.svg\" alt=\"Open In Colab\"/></a>"
      ]
    },
    {
      "cell_type": "code",
      "execution_count": 20,
      "metadata": {
        "colab": {
          "base_uri": "https://localhost:8080/"
        },
        "id": "pd0NqfPb8qg7",
        "outputId": "e73365d7-dc84-4787-b678-0570d7133f8e"
      },
      "outputs": [
        {
          "output_type": "stream",
          "name": "stdout",
          "text": [
            "0    10\n",
            "1    20\n",
            "2    30\n",
            "3    40\n",
            "4    50\n",
            "dtype: int64\n"
          ]
        }
      ],
      "source": [
        "import pandas as pd\n",
        "data = [10,20,30,40,50]\n",
        "series = pd.Series(data)\n",
        "print(series)"
      ]
    },
    {
      "cell_type": "code",
      "source": [
        "data = [10,20,30,40,50]\n",
        "index_label = ['a','b','c','d','e']\n",
        "series = pd.Series(data,index=index_label)\n",
        "print(series)"
      ],
      "metadata": {
        "colab": {
          "base_uri": "https://localhost:8080/"
        },
        "id": "C2NnQ3GU9Bei",
        "outputId": "f51bd96a-fe41-42dd-916f-f4dec1f7be84"
      },
      "execution_count": 21,
      "outputs": [
        {
          "output_type": "stream",
          "name": "stdout",
          "text": [
            "a    10\n",
            "b    20\n",
            "c    30\n",
            "d    40\n",
            "e    50\n",
            "dtype: int64\n"
          ]
        }
      ]
    },
    {
      "cell_type": "code",
      "source": [
        "#creating a data frame\n",
        "date ={\n",
        "    'name':['Alice','Bob','Claire','David'],\n",
        "    'Age':[25,30,35,40],\n",
        "    'city':[\"hyd\",\"delhi\",\"chennai\",'mumbai']\n",
        "}\n",
        "df = pd.DataFrame(date)\n",
        "print(df)"
      ],
      "metadata": {
        "colab": {
          "base_uri": "https://localhost:8080/"
        },
        "id": "aaQTIKJa9tvB",
        "outputId": "948d3a4d-ff58-431e-eb4b-e4875b8da54b"
      },
      "execution_count": 22,
      "outputs": [
        {
          "output_type": "stream",
          "name": "stdout",
          "text": [
            "     name  Age     city\n",
            "0   Alice   25      hyd\n",
            "1     Bob   30    delhi\n",
            "2  Claire   35  chennai\n",
            "3   David   40   mumbai\n"
          ]
        }
      ]
    },
    {
      "cell_type": "code",
      "source": [
        "#accessing data\n",
        "'''date ={\n",
        "    'name':['Alice','Bob','Claire','David'],\n",
        "    'Age':[25,30,35,40],\n",
        "    'city':[\"hyd\",\"delhi\",\"chennai\",'mumbai']\n",
        "}\n",
        "df = pd.DataFrame(date)\n",
        "print(df)'''\n",
        "print(df['name'])"
      ],
      "metadata": {
        "colab": {
          "base_uri": "https://localhost:8080/"
        },
        "id": "JRAfLlwA9tyi",
        "outputId": "a171fa37-d908-412c-a296-5a85e098d2a8"
      },
      "execution_count": 23,
      "outputs": [
        {
          "output_type": "stream",
          "name": "stdout",
          "text": [
            "0     Alice\n",
            "1       Bob\n",
            "2    Claire\n",
            "3     David\n",
            "Name: name, dtype: object\n"
          ]
        }
      ]
    },
    {
      "cell_type": "code",
      "source": [
        "print(df[['name','city']])"
      ],
      "metadata": {
        "colab": {
          "base_uri": "https://localhost:8080/"
        },
        "id": "8d45SYbV9t2K",
        "outputId": "f2a986d8-5128-4d75-dac0-17d99b1cf7cc"
      },
      "execution_count": 24,
      "outputs": [
        {
          "output_type": "stream",
          "name": "stdout",
          "text": [
            "     name     city\n",
            "0   Alice      hyd\n",
            "1     Bob    delhi\n",
            "2  Claire  chennai\n",
            "3   David   mumbai\n"
          ]
        }
      ]
    },
    {
      "cell_type": "code",
      "source": [
        "print(df.iloc[1])\n",
        "print(df.iloc[2])"
      ],
      "metadata": {
        "colab": {
          "base_uri": "https://localhost:8080/"
        },
        "id": "V0BLgrA59t5B",
        "outputId": "9d1f1730-056d-4247-b67f-77e7c8bf502e"
      },
      "execution_count": 25,
      "outputs": [
        {
          "output_type": "stream",
          "name": "stdout",
          "text": [
            "name      Bob\n",
            "Age        30\n",
            "city    delhi\n",
            "Name: 1, dtype: object\n",
            "name     Claire\n",
            "Age          35\n",
            "city    chennai\n",
            "Name: 2, dtype: object\n"
          ]
        }
      ]
    },
    {
      "cell_type": "code",
      "source": [
        "#adding new coloum\n",
        "df['Salary'] = [40000,50000,60000,70000]\n",
        "print(df)"
      ],
      "metadata": {
        "colab": {
          "base_uri": "https://localhost:8080/"
        },
        "id": "DIZZDUI99t8C",
        "outputId": "5dd6eb76-0c0c-488d-af3c-a4457dee051a"
      },
      "execution_count": 26,
      "outputs": [
        {
          "output_type": "stream",
          "name": "stdout",
          "text": [
            "     name  Age     city  Salary\n",
            "0   Alice   25      hyd   40000\n",
            "1     Bob   30    delhi   50000\n",
            "2  Claire   35  chennai   60000\n",
            "3   David   40   mumbai   70000\n"
          ]
        }
      ]
    },
    {
      "cell_type": "code",
      "source": [
        "#droping the column\n",
        "df=df.drop('city',axis=1)\n",
        "print(df)"
      ],
      "metadata": {
        "colab": {
          "base_uri": "https://localhost:8080/"
        },
        "id": "b-O1jAR2ANCy",
        "outputId": "3c3b972d-ff40-40ed-a0dc-232c7028c654"
      },
      "execution_count": 27,
      "outputs": [
        {
          "output_type": "stream",
          "name": "stdout",
          "text": [
            "     name  Age  Salary\n",
            "0   Alice   25   40000\n",
            "1     Bob   30   50000\n",
            "2  Claire   35   60000\n",
            "3   David   40   70000\n"
          ]
        }
      ]
    },
    {
      "cell_type": "code",
      "source": [
        "#filtering data\n",
        "#select rows where age>30\n",
        "print(df[df['Age']>30])"
      ],
      "metadata": {
        "colab": {
          "base_uri": "https://localhost:8080/"
        },
        "id": "D0lJiNZcA-YI",
        "outputId": "5161153c-2a79-4e13-a006-2b427b7989dd"
      },
      "execution_count": 29,
      "outputs": [
        {
          "output_type": "stream",
          "name": "stdout",
          "text": [
            "     name  Age  Salary\n",
            "2  Claire   35   60000\n",
            "3   David   40   70000\n"
          ]
        }
      ]
    },
    {
      "cell_type": "code",
      "source": [
        "print(df['Age'].mean())\n",
        "print(df['Age'].max())\n",
        "print(df['Age'].min())"
      ],
      "metadata": {
        "colab": {
          "base_uri": "https://localhost:8080/"
        },
        "id": "2bh7z3cSBcZf",
        "outputId": "f32db5a9-86a6-406c-a444-ea0faf521b15"
      },
      "execution_count": 33,
      "outputs": [
        {
          "output_type": "stream",
          "name": "stdout",
          "text": [
            "32.5\n",
            "40\n",
            "25\n"
          ]
        }
      ]
    },
    {
      "cell_type": "code",
      "source": [
        "Student_data ={ 'Student_name' :['ravi','suresh','kiran','pallavi','shiva'],\n",
        "                'student_id' :[101,102,103,104,105],\n",
        "                'm1' : [30,20,40,80,50],\n",
        "                'm2' : [40,60,90,75,85],\n",
        "                'm3' : [70,80,90,64,55]\n",
        "                }\n",
        "df = pd.DataFrame(Student_data)\n",
        "print(df)"
      ],
      "metadata": {
        "colab": {
          "base_uri": "https://localhost:8080/"
        },
        "id": "j1Qc3F0YED6V",
        "outputId": "79241a6f-8c99-404b-8428-e3c017b817e1"
      },
      "execution_count": 37,
      "outputs": [
        {
          "output_type": "stream",
          "name": "stdout",
          "text": [
            "  Student_name  student_id  m1  m2  m3\n",
            "0         ravi         101  30  40  70\n",
            "1       suresh         102  20  60  80\n",
            "2        kiran         103  40  90  90\n",
            "3      pallavi         104  80  75  64\n",
            "4        shiva         105  50  85  55\n"
          ]
        }
      ]
    }
  ]
}