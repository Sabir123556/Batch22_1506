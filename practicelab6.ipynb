{
  "nbformat": 4,
  "nbformat_minor": 0,
  "metadata": {
    "colab": {
      "provenance": [],
      "authorship_tag": "ABX9TyPYgqP9QjZf6JPlh9pAJDYN",
      "include_colab_link": true
    },
    "kernelspec": {
      "name": "python3",
      "display_name": "Python 3"
    },
    "language_info": {
      "name": "python"
    }
  },
  "cells": [
    {
      "cell_type": "markdown",
      "metadata": {
        "id": "view-in-github",
        "colab_type": "text"
      },
      "source": [
        "<a href=\"https://colab.research.google.com/github/Sabir123556/Batch22_1506/blob/main/practicelab6.ipynb\" target=\"_parent\"><img src=\"https://colab.research.google.com/assets/colab-badge.svg\" alt=\"Open In Colab\"/></a>"
      ]
    },
    {
      "cell_type": "code",
      "execution_count": 2,
      "metadata": {
        "colab": {
          "base_uri": "https://localhost:8080/"
        },
        "id": "hLE2-LvVEPAg",
        "outputId": "de702514-2f29-4520-aab8-a2daae8c0f3c"
      },
      "outputs": [
        {
          "output_type": "stream",
          "name": "stdout",
          "text": [
            "Original DataFrame:\n",
            "    Name   Age  Marks\n",
            "0   Ravi  25.0   85.0\n",
            "1   Neha   NaN   90.0\n",
            "2  Kiran  30.0    NaN\n",
            "3   Sita  28.0   92.0\n",
            "\n",
            "Check for Missing Values:\n",
            "    Name    Age  Marks\n",
            "0  False  False  False\n",
            "1  False   True  False\n",
            "2  False  False   True\n",
            "3  False  False  False\n"
          ]
        }
      ],
      "source": [
        "# Creating a dataset with missing values\n",
        "import numpy as np\n",
        "import pandas as pd\n",
        "data = {\n",
        "'Name': ['Ravi', 'Neha', 'Kiran', 'Sita'],\n",
        "'Age': [25, np.nan, 30, 28],\n",
        "'Marks': [85, 90, np.nan, 92]\n",
        "}\n",
        "df = pd.DataFrame(data)\n",
        "print(\"Original DataFrame:\")\n",
        "print(df)\n",
        "# Detect missing values\n",
        "print(\"\\nCheck for Missing Values:\")\n",
        "print(df.isnull())"
      ]
    },
    {
      "cell_type": "code",
      "source": [
        "# Drop rows with missing values\n",
        "df_dropped = df.dropna()\n",
        "print(\"After Dropping Rows with NaN:\")\n",
        "print(df_dropped)"
      ],
      "metadata": {
        "colab": {
          "base_uri": "https://localhost:8080/"
        },
        "id": "M-D9beOaUraE",
        "outputId": "e680521a-0fe2-4417-daf4-bb7a17ae25df"
      },
      "execution_count": 3,
      "outputs": [
        {
          "output_type": "stream",
          "name": "stdout",
          "text": [
            "After Dropping Rows with NaN:\n",
            "   Name   Age  Marks\n",
            "0  Ravi  25.0   85.0\n",
            "3  Sita  28.0   92.0\n"
          ]
        }
      ]
    },
    {
      "cell_type": "code",
      "source": [
        "# Fill missing values with a constant\n",
        "df_filled = df.fillna(0)\n",
        "print(\"Filled with 0:\")\n",
        "print(df_filled)\n",
        "# Fill missing with mean of column\n",
        "df['Age'] = df['Age'].fillna(df['Age'].mean())\n",
        "df['Marks'] =df['Marks'].fillna(df['Marks'].mean())\n",
        "print(\"\\nFilled with Mean:\")\n",
        "print(df)"
      ],
      "metadata": {
        "colab": {
          "base_uri": "https://localhost:8080/"
        },
        "id": "BFb1-HpEU06n",
        "outputId": "5ad044ab-8e1e-46b2-dc2c-4514753ff837"
      },
      "execution_count": 5,
      "outputs": [
        {
          "output_type": "stream",
          "name": "stdout",
          "text": [
            "Filled with 0:\n",
            "    Name   Age  Marks\n",
            "0   Ravi  25.0   85.0\n",
            "1   Neha   0.0   90.0\n",
            "2  Kiran  30.0    0.0\n",
            "3   Sita  28.0   92.0\n",
            "\n",
            "Filled with Mean:\n",
            "    Name        Age  Marks\n",
            "0   Ravi  25.000000   85.0\n",
            "1   Neha  27.666667   90.0\n",
            "2  Kiran  30.000000   89.0\n",
            "3   Sita  28.000000   92.0\n"
          ]
        }
      ]
    },
    {
      "cell_type": "code",
      "source": [
        "#Example: Removing Duplicates\n",
        "import pandas as pd\n",
        "data = {\n",
        "'ID': [1, 2, 2, 3, 4, 4],\n",
        "'Name': ['Ravi', 'Neha', 'Neha', 'Kiran', 'Sita', 'Sita'],\n",
        "'Marks': [85, 90, 90, 78, 92, 92]\n",
        "}\n",
        "df = pd.DataFrame(data)\n",
        "print(\"Original DataFrame with Duplicates:\")\n",
        "print(df)\n",
        "# Remove duplicate rows\n",
        "df_no_dup = df.drop_duplicates()\n",
        "print(\"\\nAfter Removing Duplicates:\")\n",
        "print(df_no_dup)\n"
      ],
      "metadata": {
        "colab": {
          "base_uri": "https://localhost:8080/"
        },
        "id": "iwWlIRACVAOd",
        "outputId": "21b54d94-1a7e-4e7a-f77d-aa6a57d691c0"
      },
      "execution_count": 6,
      "outputs": [
        {
          "output_type": "stream",
          "name": "stdout",
          "text": [
            "Original DataFrame with Duplicates:\n",
            "   ID   Name  Marks\n",
            "0   1   Ravi     85\n",
            "1   2   Neha     90\n",
            "2   2   Neha     90\n",
            "3   3  Kiran     78\n",
            "4   4   Sita     92\n",
            "5   4   Sita     92\n",
            "\n",
            "After Removing Duplicates:\n",
            "   ID   Name  Marks\n",
            "0   1   Ravi     85\n",
            "1   2   Neha     90\n",
            "3   3  Kiran     78\n",
            "4   4   Sita     92\n"
          ]
        }
      ]
    },
    {
      "cell_type": "code",
      "source": [
        "#data transforming\n",
        "import pandas as pd\n",
        "data = {\n",
        "'ID': ['1', '2', '3', '4'],\n",
        "'Marks': ['85', '90', '78', '92']\n",
        "}\n",
        "df = pd.DataFrame(data)\n",
        "print(\"Original Data Types:\")\n",
        "print(df.dtypes)\n",
        "# Convert to numeric\n",
        "df['ID'] = pd.to_numeric(df['ID'])\n",
        "df['Marks'] = pd.to_numeric(df['Marks'])\n",
        "print(\"\\nAfter Conversion:\")\n",
        "print(df.dtypes)\n",
        "\n",
        "\n",
        "# Apply transformation - add 5 bonus marks\n",
        "df['Marks'] = df['Marks'].apply(lambda x: x + 5)\n",
        "print(\"After Adding Bonus Marks:\")\n",
        "print(df)\n"
      ],
      "metadata": {
        "colab": {
          "base_uri": "https://localhost:8080/"
        },
        "id": "ouJKA__ycE6N",
        "outputId": "11d96a6f-8c5f-4dd9-f130-fb54ea8c85fd"
      },
      "execution_count": 8,
      "outputs": [
        {
          "output_type": "stream",
          "name": "stdout",
          "text": [
            "Original Data Types:\n",
            "ID       object\n",
            "Marks    object\n",
            "dtype: object\n",
            "\n",
            "After Conversion:\n",
            "ID       int64\n",
            "Marks    int64\n",
            "dtype: object\n",
            "After Adding Bonus Marks:\n",
            "   ID  Marks\n",
            "0   1     90\n",
            "1   2     95\n",
            "2   3     83\n",
            "3   4     97\n"
          ]
        }
      ]
    },
    {
      "cell_type": "code",
      "source": [
        "# Raw Student Data\n",
        "student_data = {\n",
        "'Student_ID': [101, 102, 102, 103, 104, 105],\n",
        "'Name': ['Ravi', 'Neha', 'Neha', 'Kiran', 'Sita', None],\n",
        "'Marks': [85, 90, 90, np.nan, 92, 88],\n",
        "'Department': ['CSE', 'ECE', 'ECE', 'MECH', 'CSE', 'CSE']}\n",
        "df = pd.DataFrame(student_data)\n",
        "print(\"Original Data:\")\n",
        "print(df)"
      ],
      "metadata": {
        "colab": {
          "base_uri": "https://localhost:8080/"
        },
        "id": "Ozx9Bd1fclqQ",
        "outputId": "0ba24615-58f3-4124-8ef9-1db4c0cdc0b0"
      },
      "execution_count": 9,
      "outputs": [
        {
          "output_type": "stream",
          "name": "stdout",
          "text": [
            "Original Data:\n",
            "   Student_ID   Name  Marks Department\n",
            "0         101   Ravi   85.0        CSE\n",
            "1         102   Neha   90.0        ECE\n",
            "2         102   Neha   90.0        ECE\n",
            "3         103  Kiran    NaN       MECH\n",
            "4         104   Sita   92.0        CSE\n",
            "5         105   None   88.0        CSE\n"
          ]
        }
      ]
    }
  ]
}